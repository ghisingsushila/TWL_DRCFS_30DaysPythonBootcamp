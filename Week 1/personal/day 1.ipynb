{
 "cells": [
  {
   "cell_type": "code",
   "execution_count": 1,
   "metadata": {},
   "outputs": [
    {
     "name": "stdout",
     "output_type": "stream",
     "text": [
      "hello world\n"
     ]
    }
   ],
   "source": [
    "print(\"hello world\")"
   ]
  },
  {
   "cell_type": "markdown",
   "metadata": {},
   "source": [
    "Input and Variables"
   ]
  },
  {
   "cell_type": "code",
   "execution_count": 3,
   "metadata": {},
   "outputs": [
    {
     "name": "stdout",
     "output_type": "stream",
     "text": [
      "sushila\n"
     ]
    }
   ],
   "source": [
    "person= input (\"what is your name?\")\n",
    "print(person)"
   ]
  },
  {
   "cell_type": "code",
   "execution_count": 5,
   "metadata": {},
   "outputs": [
    {
     "name": "stdout",
     "output_type": "stream",
     "text": [
      "your age is 18\n"
     ]
    }
   ],
   "source": [
    "age = input(\"what is your age?\")\n",
    "int_age = int(age)\n",
    "\n",
    "print('your age is', str(int_age))"
   ]
  },
  {
   "cell_type": "markdown",
   "metadata": {},
   "source": [
    "## control flow statements"
   ]
  },
  {
   "cell_type": "markdown",
   "metadata": {},
   "source": [
    "for diving license (bike):\n",
    "\n",
    "1. input user's age\n",
    "2. convert user's age to integer\n",
    "3. check if user is older than 16 years old\n",
    "4. if user is older, show he is eligible else show he is not"
   ]
  },
  {
   "cell_type": "code",
   "execution_count": 3,
   "metadata": {},
   "outputs": [
    {
     "name": "stdout",
     "output_type": "stream",
     "text": [
      "you are old enough to drive a bike\n"
     ]
    }
   ],
   "source": [
    "# Get user's name\n",
    "age_str = input(\"what is your age?\")\n",
    "\n",
    "#convert string to int\n",
    "age = int(age_str)\n",
    "\n",
    "#compare user's age\n",
    "if age >= 16:\n",
    "    print(\"you are old enough to drive a bike\")\n",
    "else:\n",
    "    print(\"your are not old enough to drive a bike\")"
   ]
  },
  {
   "cell_type": "markdown",
   "metadata": {},
   "source": [
    "login system"
   ]
  },
  {
   "cell_type": "code",
   "execution_count": 7,
   "metadata": {},
   "outputs": [
    {
     "name": "stdout",
     "output_type": "stream",
     "text": [
      "welcome maya\n"
     ]
    }
   ],
   "source": [
    "#login system\n",
    "username = input(\"enter your username:\")\n",
    "password = input (\"enter your password:\")\n",
    "\n",
    "# username == 'duck' and password == 'passw0rd'\n",
    "if username == 'duck' and password == 'passw0rd':\n",
    "    print(\"welcome duck\")\n",
    "elif username == 'ankur' or password == 'ankur123':\n",
    "    print(\"welcome maya\")\n",
    "else:\n",
    "    print(\"invalid username or password\")\n",
    "\n"
   ]
  },
  {
   "cell_type": "markdown",
   "metadata": {},
   "source": [
    "Looping statement"
   ]
  },
  {
   "cell_type": "markdown",
   "metadata": {},
   "source": [
    "### guessing game\n",
    "\n",
    "1. #random number generator\n",
    "2. #user input function\n",
    "3. #give user 3 guesses\n",
    "4. #check if the number is exactly the same -> game end..\n",
    "5. #check if the number is greater than the random number\n",
    "6. #check if the number is smaller than the random number\n",
    "7. #end the game and reveal the number.\n"
   ]
  }
 ],
 "metadata": {
  "kernelspec": {
   "display_name": "Python 3.10.8 64-bit (microsoft store)",
   "language": "python",
   "name": "python3"
  },
  "language_info": {
   "codemirror_mode": {
    "name": "ipython",
    "version": 3
   },
   "file_extension": ".py",
   "mimetype": "text/x-python",
   "name": "python",
   "nbconvert_exporter": "python",
   "pygments_lexer": "ipython3",
   "version": "3.10.8"
  },
  "orig_nbformat": 4,
  "vscode": {
   "interpreter": {
    "hash": "31e203a72dbac69b36c76d39d0ce2a096af8fc3543736128c5475d458407567d"
   }
  }
 },
 "nbformat": 4,
 "nbformat_minor": 2
}
